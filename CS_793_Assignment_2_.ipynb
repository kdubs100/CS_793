{
  "nbformat": 4,
  "nbformat_minor": 0,
  "metadata": {
    "colab": {
      "provenance": [],
      "toc_visible": true,
      "authorship_tag": "ABX9TyPhUxyo7KYdnVgsWDXuX/D9",
      "include_colab_link": true
    },
    "kernelspec": {
      "name": "python3",
      "display_name": "Python 3"
    },
    "language_info": {
      "name": "python"
    }
  },
  "cells": [
    {
      "cell_type": "markdown",
      "metadata": {
        "id": "view-in-github",
        "colab_type": "text"
      },
      "source": [
        "<a href=\"https://colab.research.google.com/github/kdubs100/CS_793/blob/main/CS_793_Assignment_2_.ipynb\" target=\"_parent\"><img src=\"https://colab.research.google.com/assets/colab-badge.svg\" alt=\"Open In Colab\"/></a>"
      ]
    },
    {
      "cell_type": "code",
      "execution_count": null,
      "metadata": {
        "id": "spASRl44ILgU"
      },
      "outputs": [],
      "source": [
        "!pip install datasets\n",
        "!pip install numpy\n",
        "!pip install transformers\n",
        "!pip install scikit-learn\n"
      ]
    },
    {
      "cell_type": "markdown",
      "source": [
        "# 1st BERT model"
      ],
      "metadata": {
        "id": "ZNKyQSvkpV8p"
      }
    },
    {
      "cell_type": "code",
      "source": [
        "import numpy as np\n",
        "import torch\n",
        "from datasets import load_dataset\n",
        "from transformers import AutoModel, AutoTokenizer\n",
        "\n",
        "raw_data1 = load_dataset(\n",
        "    'dell-research-harvard/headlines-semantic-similarity',\n",
        "    data_files=[\"1929_headlines.json\"]\n",
        ")\n",
        "#print(raw_data)\n",
        "\n",
        "sample1 = np.random.choice(raw_data1['train'], 10000, replace=False)\n",
        "sample1_headlines = []\n",
        "\n",
        "for data_dict1 in sample1:\n",
        "    if 'headline' in data_dict1:\n",
        "        sample1_headlines.append(data_dict1['headline'])\n",
        "#print(sample_headlines)\n",
        "\n",
        "\n",
        "model_name = \"distilbert-base-uncased\"\n",
        "tokenizer = AutoTokenizer.from_pretrained(model_name)\n",
        "model = AutoModel.from_pretrained(model_name)\n",
        "\n",
        "#embeddings created in batches\n",
        "embedded_headlines1 = []\n",
        "batch_size = 100\n",
        "i = 0\n",
        "while i < len(sample1_headlines):\n",
        "    batch_headlines = sample1_headlines[i:i+batch_size]\n",
        "    max_seq_length = 16\n",
        "    input_headlines = tokenizer(batch_headlines, return_tensors=\"pt\", padding=\"max_length\", truncation=True, max_length=max_seq_length)\n",
        "    outputs_headlines = model(**input_headlines)\n",
        "    embedded = outputs_headlines.last_hidden_state.mean(dim=1).squeeze().detach().numpy()\n",
        "    embedded_headlines1.append(embedded)\n",
        "    i += batch_size\n",
        "\n",
        "embedded_headlines1 = np.concatenate(embedded_headlines1, axis=0)\n",
        "\n",
        "#print(embedded_headlines)\n",
        "print(len(embedded_headlines1))"
      ],
      "metadata": {
        "id": "YBuzsjHEODhN",
        "colab": {
          "base_uri": "https://localhost:8080/"
        },
        "outputId": "f3b26b75-5826-4e16-9b9a-3519334cd1f8"
      },
      "execution_count": null,
      "outputs": [
        {
          "output_type": "stream",
          "name": "stdout",
          "text": [
            "10000\n"
          ]
        }
      ]
    },
    {
      "cell_type": "code",
      "source": [
        "from sklearn.cluster import KMeans\n",
        "from sklearn.metrics import silhouette_samples, silhouette_score\n",
        "\n",
        "range_n_clusters = [ 2, 3, 4, 5, 6, 7, 8]\n",
        "averages1 = []\n",
        "for n_clusters in range_n_clusters:\n",
        "\n",
        "    clusterer = KMeans(n_clusters=n_clusters, init='random', n_init=\"auto\", random_state=10)\n",
        "    cluster_labels = clusterer.fit_predict(embedded_headlines1)\n",
        "\n",
        "    sample_silhouette_values1 = silhouette_samples(embedded_headlines1, cluster_labels)\n",
        "\n",
        "    silhouette_avg1 = silhouette_score(embedded_headlines1, cluster_labels)\n",
        "    averages1.append((n_clusters, silhouette_avg1))\n",
        "    print(\n",
        "        \"For n_clusters =\",\n",
        "        n_clusters,\n",
        "        \"The average silhouette_score is :\",\n",
        "        silhouette_avg1,\n",
        "    )\n",
        "\n",
        "max_cluster1 = max(averages1, key=lambda x: x[1])\n",
        "print(max_cluster1)"
      ],
      "metadata": {
        "colab": {
          "base_uri": "https://localhost:8080/"
        },
        "id": "W1binBZRbFxZ",
        "outputId": "5a7b86e2-4ba2-4fcc-b7d7-beaf2757cfdc"
      },
      "execution_count": null,
      "outputs": [
        {
          "output_type": "stream",
          "name": "stdout",
          "text": [
            "For n_clusters = 2 The average silhouette_score is : 0.054011058\n",
            "For n_clusters = 3 The average silhouette_score is : 0.04838053\n",
            "For n_clusters = 4 The average silhouette_score is : 0.03178407\n",
            "For n_clusters = 5 The average silhouette_score is : 0.032822054\n",
            "For n_clusters = 6 The average silhouette_score is : 0.03412041\n",
            "For n_clusters = 7 The average silhouette_score is : 0.033235606\n",
            "For n_clusters = 8 The average silhouette_score is : 0.032927938\n",
            "(2, 0.054011058)\n"
          ]
        }
      ]
    },
    {
      "cell_type": "code",
      "source": [
        "from sklearn.metrics.pairwise import cosine_similarity\n",
        "from sklearn.feature_extraction.text import TfidfVectorizer\n",
        "import random\n",
        "\n",
        "cluster_idx_to_sample = (int(max_cluster1[0])-1)\n",
        "clusterer = KMeans(n_clusters=cluster_idx_to_sample, init='random', n_init=\"auto\", random_state=10)\n",
        "cluster_idx_to_print = cluster_idx_to_sample\n",
        "\n",
        "\n",
        "cluster_headlines1 = [sample1_headlines[i] for i, label in enumerate(cluster_labels) if label == cluster_idx_to_print]\n",
        "#print(f\"Cluster {cluster_idx_to_print + 1} Headlines:\")\n",
        "#for i, headline in enumerate(cluster_headlines1):\n",
        "#    print(f\"Headline {i + 1}: {headline}\")\n",
        "\n",
        "selected1 = random.sample(cluster_headlines1, 5)\n",
        "#print(selected1)\n",
        "selected_indices1 = [i for i, headline in enumerate(cluster_headlines1) if headline in selected1]\n",
        "#print(selected_indices1)\n",
        "selected_headlines1 = [cluster_headlines1[i] for i in selected_indices1]\n",
        "\n",
        "tfidf_vectorizer = TfidfVectorizer()\n",
        "tfidf_matrix = tfidf_vectorizer.fit_transform(cluster_headlines1 + selected1)\n",
        "\n",
        "cosine_similarities1 = cosine_similarity(tfidf_matrix[-6:-1], tfidf_matrix[:-len(selected1)])\n",
        "#print(cosine_similarities1)\n",
        "for i, selected_headlines1 in enumerate(selected1):\n",
        "    print(f\"Selected Headline {i + 1}: {selected_headlines1}\")\n",
        "    top_indices = cosine_similarities1[i].argsort()[-5:][::-1]\n",
        "    print(top_indices)\n",
        "    print(\"Top 5 Closest Headlines:\")\n",
        "    for j, index in enumerate(top_indices):\n",
        "        print(f\"  Similar Headline {j + 1}: {cluster_headlines1[index]} (Cosine Similarity: {cosine_similarities1[i][index]})\")\n",
        "\n"
      ],
      "metadata": {
        "colab": {
          "base_uri": "https://localhost:8080/"
        },
        "id": "xga-SiB_Hi12",
        "outputId": "cea3fddd-dce7-44ea-bc28-08e0900bb210"
      },
      "execution_count": null,
      "outputs": [
        {
          "output_type": "stream",
          "name": "stdout",
          "text": [
            "Selected Headline 1: AMERICA  BIVEN PHAloE   Citizens of U. S. Are Understanding Us, MacDonald Says   NATION SYMPATHETIC\n",
            "[3670 1606 1156   91 2039]\n",
            "Top 5 Closest Headlines:\n",
            "  Similar Headline 1: FREED AS COURT DECIDES POLICE ARE PSCONSESTENS (Cosine Similarity: 1.0000000000000002)\n",
            "  Similar Headline 2: Thomas W. Miller  Freed From “Pen’ (Cosine Similarity: 0.19209971221453814)\n",
            "  Similar Headline 3: I’m Alone Captain And Crew Freed Of Charge: (Cosine Similarity: 0.18230064745371538)\n",
            "  Similar Headline 4: hLublicates Police (Cosine Similarity: 0.16083218485559977)\n",
            "  Similar Headline 5: Robbers Held For Court (Cosine Similarity: 0.15784049424567234)\n",
            "Selected Headline 2: Somerset Conspirators Post Bond for Court\n",
            "[1155 1925  295  802 1610]\n",
            "Top 5 Closest Headlines:\n",
            "  Similar Headline 1: AMERICA  BIVEN PHAloE   Citizens of U. S. Are Understanding Us, MacDonald Says   NATION SYMPATHETIC (Cosine Similarity: 0.9999999999999998)\n",
            "  Similar Headline 2: Cause Of Peace Unites : Us, Says MacDonald In _ Message Of Farewell (Cosine Similarity: 0.26771517989950333)\n",
            "  Similar Headline 3: IN RAGE CONTESTANT: BIVEN THRILL   Reports of 10 Pilots Are Received But Two Not Yet Heard From (Cosine Similarity: 0.1465063030723108)\n",
            "  Similar Headline 4: MACDONALD IS BACK IN LONDON (Cosine Similarity: 0.14355959444558855)\n",
            "  Similar Headline 5: DECLARES IT HASN'T FAVOR OF CITIZENS   Governor Says Considera tion Must Be Given to Effect on Public (Cosine Similarity: 0.1335315447492904)\n",
            "Selected Headline 3: Borah Asks Britain to Sink Some of Her Ship:\n",
            "[  74 1507 3424 2039  116]\n",
            "Top 5 Closest Headlines:\n",
            "  Similar Headline 1: Somerset Conspirators Post Bond for Court (Cosine Similarity: 1.0)\n",
            "  Similar Headline 2: Coolidge Names Three for Post: (Cosine Similarity: 0.2349704592690964)\n",
            "  Similar Headline 3: GRAF WILL START TRIP HOME AT 12   Post Bond to Avoid At tachment of Zeppelin in Suit. (Cosine Similarity: 0.23188028072626407)\n",
            "  Similar Headline 4: Robbers Held For Court (Cosine Similarity: 0.21956115194060344)\n",
            "  Similar Headline 5: FEDERALS BOND AFAFL GARRISON (Cosine Similarity: 0.1939541048543577)\n",
            "Selected Headline 4: ST. MARY’S CO. REGAINS PERMIT\n",
            "[2372 1232 1227 2558  256]\n",
            "Top 5 Closest Headlines:\n",
            "  Similar Headline 1: Borah Asks Britain to Sink Some of Her Ship: (Cosine Similarity: 1.0000000000000002)\n",
            "  Similar Headline 2: ' HAMMOND ASKS “TO BE RELIEVED (Cosine Similarity: 0.20337204475896767)\n",
            "  Similar Headline 3: DAWES WILL BE AMBASSADOR TO GREAT BRITAIN (Cosine Similarity: 0.18740927264335455)\n",
            "  Similar Headline 4: Great Britain Savs “No” (Cosine Similarity: 0.17844718819246305)\n",
            "  Similar Headline 5: ASKS SURVEY OF CHICAGO’S POLICE DEPARTMENT MADE (Cosine Similarity: 0.1775208786886415)\n",
            "Selected Headline 5: BLOLWILED LUMO CAUSE OF GUNPLAY T0 “BREAK SPELL”   SANITY HEARING ASKED FOR STURGEON BAY COUNTRYMAN  NEIGHBOR TARGET   Harmless Fusillade Results in Jail Bunk for Superstitious Citizen\n",
            "[2565  854 1728  529 3252]\n",
            "Top 5 Closest Headlines:\n",
            "  Similar Headline 1: ST. MARY’S CO. REGAINS PERMIT (Cosine Similarity: 1.0000000000000002)\n",
            "  Similar Headline 2: MRS. MARY THAW DIED SUNDAY AT PITTSBURGH (Cosine Similarity: 0.1973806608414237)\n",
            "  Similar Headline 3: Guatemala Fliers  ~ OF For St! Loui: (Cosine Similarity: 0.15384832542246282)\n",
            "  Similar Headline 4: DAMAGE ST. LOUIS ~~ ROBIN IN LANDING (Cosine Similarity: 0.1493832146654854)\n",
            "  Similar Headline 5: Huge Farm Marketin3 — Co. Formed. (Cosine Similarity: 0.14621151522435244)\n"
          ]
        }
      ]
    },
    {
      "cell_type": "code",
      "source": [
        "#print(selected1)\n",
        "\n",
        "similar1 = cosine_similarity(tfidf_matrix[-len(selected1):], tfidf_matrix[:-len(selected1)])\n",
        "selected_sim1 = []\n",
        "#print(similar1)\n",
        "for i, selected_headlines1 in enumerate(selected1):\n",
        "  new_indices1 = similar1[i].argsort()[-10:-8][::-1]\n",
        "#  print(new_indices1)\n",
        "  selected_headlines_set = set()  # Initialize a set for the selected headlines\n",
        "  selected_cos = []\n",
        "  for index in new_indices1:\n",
        "      selected_headlines_set.add(cluster_headlines1[index])\n",
        "      selected_cos.append(cosine_similarities1[i][index])\n",
        "\n",
        "  selected_sim1.append((selected_headlines_set,selected_cos))\n",
        "\n",
        "for j, similar1_headline in enumerate(selected1):\n",
        "    print(f\"Selected Headline {j + 1}: {similar1_headline}\")\n",
        "    selected_headlines_set, selected_cos = selected_sim1[j]\n",
        "    for i, selected_headline in enumerate(selected_headlines_set):\n",
        "        print(f\"Similar Headline: {selected_headline}\\n Cosine Similarity {selected_cos[i]}\")\n"
      ],
      "metadata": {
        "colab": {
          "base_uri": "https://localhost:8080/"
        },
        "id": "q7JZODd2uVg2",
        "outputId": "bdb7832d-6ab2-4170-bfe0-009fd30b93ea"
      },
      "execution_count": null,
      "outputs": [
        {
          "output_type": "stream",
          "name": "stdout",
          "text": [
            "Selected Headline 1: AMERICA  BIVEN PHAloE   Citizens of U. S. Are Understanding Us, MacDonald Says   NATION SYMPATHETIC\n",
            "Similar Headline: Premier MacDonald ls On Way Back Home\n",
            " Cosine Similarity 0.0\n",
            "Similar Headline: Asks Nation To Stand Ready For  Soviet ‘Menace\n",
            " Cosine Similarity 0.0\n",
            "Selected Headline 2: Somerset Conspirators Post Bond for Court\n",
            "Similar Headline: NEBRASKA EDITOR WILL TAKE FARM BOARD POST\n",
            " Cosine Similarity 0.015906454897169513\n",
            "Similar Headline: Ministers Held for Contempt of Court\n",
            " Cosine Similarity 0.0\n",
            "Selected Headline 3: Borah Asks Britain to Sink Some of Her Ship:\n",
            "Similar Headline: PEACOX. CONFESSES. TO KILLING AND THEN BIBAING AE HIS WIFE   Said That He Hit Her on the Head With Pistol and Then Straneled Her.   POURED KEROSENE   On Her Body and Clothing And Set Fire to It— * Girl is Held.\n",
            " Cosine Similarity 0.0\n",
            "Similar Headline: President Hoover Responds to British Ship Curtailment   AMERICA WILL ADOPT . PRINCIPLE OF PARITY   Great Britain and United States ta Cooperate and  Not to Cumpete\n",
            " Cosine Similarity 0.0\n",
            "Selected Headline 4: ST. MARY’S CO. REGAINS PERMIT\n",
            "Similar Headline: Body Identified as That of Missing McGill Co-Fd\n",
            " Cosine Similarity 0.0\n",
            "Similar Headline: St. Valentine’s Massacre Suspect Held on Coast\n",
            " Cosine Similarity 0.016175858058769397\n",
            "Selected Headline 5: BLOLWILED LUMO CAUSE OF GUNPLAY T0 “BREAK SPELL”   SANITY HEARING ASKED FOR STURGEON BAY COUNTRYMAN  NEIGHBOR TARGET   Harmless Fusillade Results in Jail Bunk for Superstitious Citizen\n",
            "Similar Headline: COMPANY T0 DRILL FOR OIL IN LANGLADE C0\n",
            " Cosine Similarity 0.0\n",
            "Similar Headline: spaper Mento Jail for Contempt\n",
            " Cosine Similarity 0.0\n"
          ]
        }
      ]
    },
    {
      "cell_type": "code",
      "source": [
        "differ1 = []\n",
        "diff_indices = []\n",
        "for i in range(0,5):\n",
        "    rand = random.sample(cluster_headlines1, 1)\n",
        "    differ1.append(rand)\n",
        "    ind = [idx for idx, headline in enumerate(cluster_headlines1) if headline == rand[0]]\n",
        "    diff_indices.append(ind)\n",
        "\n",
        "diff1 = []\n",
        "for indices in diff_indices:\n",
        "    for index in indices:\n",
        "        headline = cluster_headlines1[index]\n",
        "        cos_sim = cosine_similarities1[i][index]\n",
        "        diff1.append((headline, cos_sim))\n",
        "\n",
        "for j, similar1_headline in enumerate(selected1):\n",
        "    print(f\"Selected Headline {j + 1}: {similar1_headline}\")\n",
        "    headline, cos_sim = diff1[j]\n",
        "    print(f\"Headline: {headline} Cosine Similarity: {cos_sim}\\n\")\n",
        "\n",
        "#print(diff1)\n",
        "#print(differ1)\n",
        "#print(diff_indices)\n"
      ],
      "metadata": {
        "colab": {
          "base_uri": "https://localhost:8080/"
        },
        "id": "oIzdtfwXvOxZ",
        "outputId": "2daa32f0-7118-44c3-ed89-5b4f59617eec"
      },
      "execution_count": null,
      "outputs": [
        {
          "output_type": "stream",
          "name": "stdout",
          "text": [
            "Selected Headline 1: AMERICA  BIVEN PHAloE   Citizens of U. S. Are Understanding Us, MacDonald Says   NATION SYMPATHETIC\n",
            "Headline: BOTH HOUSES ARE . ON FARM JOB NOW Cosine Similarity: 0.0\n",
            "\n",
            "Selected Headline 2: Somerset Conspirators Post Bond for Court\n",
            "Headline: “6 FIREMEN ARE TRAPPED BY WALL; i CRUSHED TO DEATH Cosine Similarity: 0.0\n",
            "\n",
            "Selected Headline 3: Borah Asks Britain to Sink Some of Her Ship:\n",
            "Headline: FOUR HUNDRED SKATERS GET DIP AS ICE BREAKS Cosine Similarity: 0.0\n",
            "\n",
            "Selected Headline 4: ST. MARY’S CO. REGAINS PERMIT\n",
            "Headline: THIRTY THREE HURT IN TRAIN WRECK TODAY   Burlington Passenger Trair Backs into Another at St. Louis Train Shed.   TWO COACHES FILLED _ WITH PEOPLE CRUSHED   All Victims Expected to Re. cover; Officials Start Probe of Cause. Cosine Similarity: 0.05916077891773062\n",
            "\n",
            "Selected Headline 5: BLOLWILED LUMO CAUSE OF GUNPLAY T0 “BREAK SPELL”   SANITY HEARING ASKED FOR STURGEON BAY COUNTRYMAN  NEIGHBOR TARGET   Harmless Fusillade Results in Jail Bunk for Superstitious Citizen\n",
            "Headline: Tear Bombs Go Off © In Bank; All Crying Cosine Similarity: 0.0\n",
            "\n"
          ]
        }
      ]
    },
    {
      "cell_type": "markdown",
      "source": [
        "The results of the cosine similarities indicate that even \"closer\" headlines are not necessarily considered close. I think for this model, it is likely because of the cluster size. I had to reduce the sequence length of the embeddings to reduce the amount of RAM used which resulted in ill fitting clusters for this model. However, the \"similar\" headlines still resulted in much better results than the random headlines. Additionally, some of the variation would be due to the model used to embed the headlines. The second BERT type model I used was larger and resulted in results with higher cosine similaries. In the third model, the clusters were extremely poor fitting resulting in high cosine similarities for headlines that were not similar in context."
      ],
      "metadata": {
        "id": "DlvN55jLM4QU"
      }
    },
    {
      "cell_type": "markdown",
      "source": [
        "# 2nd BERT model\n"
      ],
      "metadata": {
        "id": "-qyqspZImmFe"
      }
    },
    {
      "cell_type": "code",
      "source": [
        "raw_data2 = load_dataset(\n",
        "    'dell-research-harvard/headlines-semantic-similarity',\n",
        "    data_files=[\"1929_headlines.json\"]\n",
        ")\n",
        "#print(raw_data)\n",
        "\n",
        "sample2 = np.random.choice(raw_data2['train'], 10000, replace=False)\n",
        "sample2_headlines = []\n",
        "\n",
        "for data_dict2 in sample2:\n",
        "    if 'headline' in data_dict2:\n",
        "        sample2_headlines.append(data_dict2['headline'])\n",
        "#print(sample_headlines)\n",
        "\n",
        "\n",
        "model_name = \"bert-base-cased\"\n",
        "tokenizer = AutoTokenizer.from_pretrained(model_name)\n",
        "model = AutoModel.from_pretrained(model_name)\n",
        "\n",
        "#embeddings created in batches\n",
        "embedded_headlines2 = []\n",
        "batch_size = 100\n",
        "i = 0\n",
        "while i < len(sample2_headlines):\n",
        "    batch_headlines = sample2_headlines[i:i+batch_size]\n",
        "    max_seq_length = 16\n",
        "    input_headlines = tokenizer(batch_headlines, return_tensors=\"pt\", padding=\"max_length\", truncation=True, max_length=max_seq_length)\n",
        "    outputs_headlines = model(**input_headlines)\n",
        "    embedded = outputs_headlines.last_hidden_state.mean(dim=1).squeeze().detach().numpy()\n",
        "    embedded_headlines2.append(embedded)\n",
        "    i += batch_size\n",
        "\n",
        "embedded_headlines2 = np.concatenate(embedded_headlines2, axis=0)\n",
        "\n",
        "#print(embedded_headlines)\n",
        "print(len(embedded_headlines2))"
      ],
      "metadata": {
        "colab": {
          "base_uri": "https://localhost:8080/"
        },
        "id": "ruS18AKSmmwf",
        "outputId": "1eba702f-dd51-414a-828b-5f9b849cf8a4"
      },
      "execution_count": null,
      "outputs": [
        {
          "output_type": "stream",
          "name": "stdout",
          "text": [
            "10000\n"
          ]
        }
      ]
    },
    {
      "cell_type": "code",
      "source": [
        "range_n_clusters = [ 2, 3, 4, 5, 6, 7, 8]\n",
        "averages2 = []\n",
        "for n_clusters in range_n_clusters:\n",
        "\n",
        "    # Initialize the clusterer with n_clusters value and other parameters as needed\n",
        "    clusterer = KMeans(n_clusters=n_clusters, init='random', n_init=\"auto\", random_state=10)\n",
        "    cluster_labels = clusterer.fit_predict(embedded_headlines2)\n",
        "\n",
        "    # Compute the silhouette scores for each sample\n",
        "    sample_silhouette_values2 = silhouette_samples(embedded_headlines2, cluster_labels)\n",
        "\n",
        "    # Calculate the average silhouette score for the clustering\n",
        "    silhouette_avg2 = silhouette_score(embedded_headlines2, cluster_labels)\n",
        "    averages2.append((n_clusters, silhouette_avg2))\n",
        "    print(\n",
        "        \"For n_clusters =\",\n",
        "        n_clusters,\n",
        "        \"The average silhouette_score is :\",\n",
        "        silhouette_avg2,\n",
        "    )\n",
        "\n",
        "max_cluster2 = max(averages2, key=lambda x: x[1])\n",
        "print(max_cluster2)"
      ],
      "metadata": {
        "colab": {
          "base_uri": "https://localhost:8080/"
        },
        "id": "Za8BN--4pQ6-",
        "outputId": "320e49cd-89cf-4b83-8e83-714b340a94d4"
      },
      "execution_count": null,
      "outputs": [
        {
          "output_type": "stream",
          "name": "stdout",
          "text": [
            "For n_clusters = 2 The average silhouette_score is : 0.307241\n",
            "For n_clusters = 3 The average silhouette_score is : 0.09764994\n",
            "For n_clusters = 4 The average silhouette_score is : 0.055352516\n",
            "For n_clusters = 5 The average silhouette_score is : 0.040002003\n",
            "For n_clusters = 6 The average silhouette_score is : 0.037365384\n",
            "For n_clusters = 7 The average silhouette_score is : 0.030984377\n",
            "For n_clusters = 8 The average silhouette_score is : 0.030426977\n",
            "(2, 0.307241)\n"
          ]
        }
      ]
    },
    {
      "cell_type": "code",
      "source": [
        "cluster_idx_to_sample = (int(max_cluster2[0])-1)\n",
        "clusterer = KMeans(n_clusters=cluster_idx_to_sample, init='random', n_init=\"auto\", random_state=10)\n",
        "cluster_idx_to_print = cluster_idx_to_sample\n",
        "\n",
        "\n",
        "cluster_headlines2 = [sample2_headlines[i] for i, label in enumerate(cluster_labels) if label == cluster_idx_to_print]\n",
        "#print(f\"Cluster {cluster_idx_to_print + 1} Headlines:\")\n",
        "#for i, headline in enumerate(cluster_headlines1):\n",
        "#    print(f\"Headline {i + 1}: {headline}\")\n",
        "\n",
        "selected2 = random.sample(cluster_headlines2, 5)\n",
        "#print(selected1)\n",
        "selected_indices2 = [i for i, headline in enumerate(cluster_headlines2) if headline in selected2]\n",
        "#print(selected_indices1)\n",
        "selected_headlines2 = [cluster_headlines2[i] for i in selected_indices2]\n",
        "\n",
        "tfidf_vectorizer = TfidfVectorizer()\n",
        "tfidf_matrix = tfidf_vectorizer.fit_transform(cluster_headlines2 + selected2)\n",
        "\n",
        "cosine_similarities2 = cosine_similarity(tfidf_matrix[-6:-1], tfidf_matrix[:-len(selected2)])\n",
        "#print(cosine_similarities1)\n",
        "for i, selected_headlines2 in enumerate(selected2):\n",
        "    print(f\"Selected Headline {i + 1}: {selected_headlines2}\")\n",
        "\n",
        "    # Get the indices of the 5 headlines with the highest cosine similarity scores\n",
        "    top_indices = cosine_similarities2[i].argsort()[-5:][::-1]\n",
        "\n",
        "    print(\"Top 5 Closest Headlines:\")\n",
        "    for j, index in enumerate(top_indices):\n",
        "        print(f\"  Similar Headline {j + 1}: {cluster_headlines2[index]} (Cosine Similarity: {cosine_similarities2[i][index]})\")\n",
        "\n"
      ],
      "metadata": {
        "colab": {
          "base_uri": "https://localhost:8080/"
        },
        "id": "BzLn9rCxsS8K",
        "outputId": "52a74f37-dcc6-4ec3-b1fd-090a3dc71ecb"
      },
      "execution_count": null,
      "outputs": [
        {
          "output_type": "stream",
          "name": "stdout",
          "text": [
            "Selected Headline 1: ‘Collapse of Trial to Be Investigated in Chicago\n",
            "Top 5 Closest Headlines:\n",
            "  Similar Headline 1: White Squaws Make Thunder Over Nothing   Chief Two Guns Offer Solution Of Capital’s  Social Fuss (Cosine Similarity: 1.0000000000000002)\n",
            "  Similar Headline 2: Negroes Murder White in Quarrel Over Right-of-Way (Cosine Similarity: 0.14408007642830406)\n",
            "  Similar Headline 3: Refused $50,000 Dog Track Offer (Cosine Similarity: 0.12900134774532024)\n",
            "  Similar Headline 4: Negro Shot Down After Shooting Two White Mer (Cosine Similarity: 0.12658055251943312)\n",
            "  Similar Headline 5: New German Ship. Has 11-Inch Guns’ (Cosine Similarity: 0.1168854262965212)\n",
            "Selected Headline 2: Weather\n",
            "Top 5 Closest Headlines:\n",
            "  Similar Headline 1: ‘Collapse of Trial to Be Investigated in Chicago (Cosine Similarity: 1.0000000000000002)\n",
            "  Similar Headline 2: Chicago’s Gangland to Be Investigated by Crime Commissior (Cosine Similarity: 0.43611672502539733)\n",
            "  Similar Headline 3: Cotton Exchanges to Be Investigated (Cosine Similarity: 0.3994902643427642)\n",
            "  Similar Headline 4: Twenty Killed As House Collapse: (Cosine Similarity: 0.2813344440384206)\n",
            "  Similar Headline 5: Chicago Denied  Permisston to  Be a Defendani (Cosine Similarity: 0.22655657133395535)\n",
            "Selected Headline 3: U. S. Owns Turtle Islands, Britain Governs Them   Treaty Now Being Completed That Will Settle Sovereignty Of Important Little Group Of Philip pines.\n",
            "Top 5 Closest Headlines:\n",
            "  Similar Headline 1: Weather (Cosine Similarity: 1.0)\n",
            "  Similar Headline 2: Weather (Cosine Similarity: 1.0)\n",
            "  Similar Headline 3: Weather (Cosine Similarity: 1.0)\n",
            "  Similar Headline 4: Weather (Cosine Similarity: 1.0)\n",
            "  Similar Headline 5: Weather (Cosine Similarity: 1.0)\n",
            "Selected Headline 4: a ‘Today  The President  > — Investigates  ; Bles: Terror Ab: Arabs  > Der A wthiir RPereichana\n",
            "Top 5 Closest Headlines:\n",
            "  Similar Headline 1: U. S. Owns Turtle Islands, Britain Governs Them   Treaty Now Being Completed That Will Settle Sovereignty Of Important Little Group Of Philip pines. (Cosine Similarity: 1.0000000000000004)\n",
            "  Similar Headline 2: Chicago Makes First Important Arrest (Cosine Similarity: 0.1317238410747293)\n",
            "  Similar Headline 3: Fate of Becca Rogers in Hands of Jury   Arguments of State and Defense At torneys Will Be Completed ~ This Afternoon. (Cosine Similarity: 0.13050328689705842)\n",
            "  Similar Headline 4:  Big Financial Deal Completed (Cosine Similarity: 0.1269599353705709)\n",
            "  Similar Headline 5: King’s Recovery Cause of Britain Rejoicing (Cosine Similarity: 0.11434516642696711)\n",
            "Selected Headline 5: Lindbergh. Honeymoon Yacht Resumes Voyage\n",
            "Top 5 Closest Headlines:\n",
            "  Similar Headline 1: a ‘Today  The President  > — Investigates  ; Bles: Terror Ab: Arabs  > Der A wthiir RPereichana (Cosine Similarity: 1.0000000000000002)\n",
            "  Similar Headline 2: today s (Cosine Similarity: 0.20248346951744509)\n",
            "  Similar Headline 3: Three Killed as Arabs Flock Into Jerusalem (Cosine Similarity: 0.1424004684491283)\n",
            "  Similar Headline 4: The Weather (Cosine Similarity: 0.11805851477722978)\n",
            "  Similar Headline 5: Today   3,000 Automobile Deaths  The Gay Night Clubs  Switzerland ‘on the Ocean (Cosine Similarity: 0.11595366526495889)\n"
          ]
        }
      ]
    },
    {
      "cell_type": "code",
      "source": [
        "#print(selected2)\n",
        "\n",
        "similar2 = cosine_similarity(tfidf_matrix[-len(selected2):], tfidf_matrix[:-len(selected2)])\n",
        "selected_sim2 = []\n",
        "#print(similar2)\n",
        "for i, selected_headlines2 in enumerate(selected2):\n",
        "  new_indices2 = similar2[i].argsort()[-10:-8][::-1]\n",
        "#  print(new_indices2)\n",
        "  selected_headlines_set = set()  # Initialize a set for the selected headlines\n",
        "  selected_cos = []\n",
        "  for index in new_indices2:\n",
        "      selected_headlines_set.add(cluster_headlines2[index])\n",
        "      selected_cos.append(cosine_similarities2[i][index])\n",
        "\n",
        "  selected_sim2.append((selected_headlines_set, selected_cos))\n",
        "\n",
        "for j, similar2_headline in enumerate(selected2):\n",
        "    print(f\"Selected Headline {j + 1}: {similar2_headline}\")\n",
        "    selected_headlines_set, selected_cos = selected_sim2[j]\n",
        "    for i, selected_headline in enumerate(selected_headlines_set):\n",
        "        print(f\"Similar Headline: {selected_headline}\\n Cosine Similarity {selected_cos[i]}\")\n"
      ],
      "metadata": {
        "colab": {
          "base_uri": "https://localhost:8080/"
        },
        "id": "isIZZEn7MRIK",
        "outputId": "46193c40-c002-4111-c57c-e57c3f841881"
      },
      "execution_count": null,
      "outputs": [
        {
          "output_type": "stream",
          "name": "stdout",
          "text": [
            "Selected Headline 1: ‘Collapse of Trial to Be Investigated in Chicago\n",
            "Similar Headline: Open Trial Of Arlie Boswel\n",
            " Cosine Similarity 0.0\n",
            "Similar Headline: ‘Heflin Fails to Annear for Trial\n",
            " Cosine Similarity 0.015089878241981868\n",
            "Selected Headline 2: Weather\n",
            "Similar Headline: Cooler Weather Finally Arrives\n",
            " Cosine Similarity 0.0\n",
            "Similar Headline: Endurance Plane Is Defeated By Weather\n",
            " Cosine Similarity 0.0\n",
            "Selected Headline 3: U. S. Owns Turtle Islands, Britain Governs Them   Treaty Now Being Completed That Will Settle Sovereignty Of Important Little Group Of Philip pines.\n",
            "Similar Headline: Embargo Treaty Ratified.\n",
            " Cosine Similarity 0.0\n",
            "Similar Headline: Britain Slows New Navy Work\n",
            " Cosine Similarity 0.0\n",
            "Selected Headline 4: a ‘Today  The President  > — Investigates  ; Bles: Terror Ab: Arabs  > Der A wthiir RPereichana\n",
            "Similar Headline: Ex- President’s Son Will Marry Daughter Of Connecticut’s Governor Late Today\n",
            " Cosine Similarity 0.0442651915506696\n",
            "Similar Headline: Will Rogers Says Today\n",
            " Cosine Similarity 0.050219399160000955\n",
            "Selected Headline 5: Lindbergh. Honeymoon Yacht Resumes Voyage\n",
            "Similar Headline: Artillery Escort for Lindbergh and Party\n",
            " Cosine Similarity 0.0\n",
            "Similar Headline: Lindbergh Unable To Hop Off in Fog\n",
            " Cosine Similarity 0.0\n"
          ]
        }
      ]
    },
    {
      "cell_type": "code",
      "source": [
        "differ2 = []\n",
        "diff_indices2 = []\n",
        "for i in range(0, 5):\n",
        "    rand = random.sample(cluster_headlines2, 1)\n",
        "    differ2.append(rand)\n",
        "    ind = [idx for idx, headline in enumerate(cluster_headlines2) if headline == rand[0]]\n",
        "    diff_indices2.append(ind)\n",
        "\n",
        "diff2 = []\n",
        "for indices in diff_indices2:\n",
        "    for index in indices:\n",
        "        headline = cluster_headlines2[index]\n",
        "        cos_sim = cosine_similarities2[i][index]\n",
        "        diff2.append((headline, cos_sim))\n",
        "\n",
        "for j, similar2_headline in enumerate(selected2):\n",
        "    print(f\"Selected Headline {j + 1}: {similar2_headline}\")\n",
        "    headline, cos_sim = diff2[j]\n",
        "    print(f\"Headline: {headline} Cosine Similarity: {cos_sim}\\n\")\n",
        "\n",
        "#print(diff2)\n",
        "#print(differ2)\n",
        "#print(diff_indices2)\n"
      ],
      "metadata": {
        "colab": {
          "base_uri": "https://localhost:8080/"
        },
        "id": "BauPQ9QjMRcI",
        "outputId": "e1c5fe59-8b64-45f3-ce0a-12480e7cdce3"
      },
      "execution_count": null,
      "outputs": [
        {
          "output_type": "stream",
          "name": "stdout",
          "text": [
            "Selected Headline 1: ‘Collapse of Trial to Be Investigated in Chicago\n",
            "Headline: Missionary Basket Meeting Friday  P.-M.~“Annual ' Evans: Barbecuc Today—Social. and- Personal. © Cosine Similarity: 0.041672987959726286\n",
            "\n",
            "Selected Headline 2: Weather\n",
            "Headline: Governor Hammill Helps in Dedication of Missouri Bridge Cosine Similarity: 0.0\n",
            "\n",
            "Selected Headline 3: U. S. Owns Turtle Islands, Britain Governs Them   Treaty Now Being Completed That Will Settle Sovereignty Of Important Little Group Of Philip pines.\n",
            "Headline: Memorial Services Helc Sunday at Spurgeon and First M. E. Churches Cosine Similarity: 0.0\n",
            "\n",
            "Selected Headline 4: a ‘Today  The President  > — Investigates  ; Bles: Terror Ab: Arabs  > Der A wthiir RPereichana\n",
            "Headline: Wholesale - Bootlegger Is Blamed for Seventeen — Deaths at Peoria Cosine Similarity: 0.0\n",
            "\n",
            "Selected Headline 5: Lindbergh. Honeymoon Yacht Resumes Voyage\n",
            "Headline: 17 Drown Cosine Similarity: 0.0\n",
            "\n"
          ]
        }
      ]
    },
    {
      "cell_type": "markdown",
      "source": [
        "# 3rd BERT Model"
      ],
      "metadata": {
        "id": "__P5mlVEp-8G"
      }
    },
    {
      "cell_type": "code",
      "source": [
        "raw_data3 = load_dataset(\n",
        "    'dell-research-harvard/headlines-semantic-similarity',\n",
        "    data_files=[\"1929_headlines.json\"]\n",
        ")\n",
        "#print(raw_data)\n",
        "\n",
        "sample3 = np.random.choice(raw_data3['train'], 10000, replace=False)\n",
        "sample3_headlines = []\n",
        "\n",
        "for data_dict3 in sample3:\n",
        "    if 'headline' in data_dict3:\n",
        "        sample3_headlines.append(data_dict3['headline'])\n",
        "#print(sample_headlines)\n",
        "\n",
        "\n",
        "model_name = \"bert-base-multilingual-cased\"\n",
        "tokenizer = AutoTokenizer.from_pretrained(model_name)\n",
        "model = AutoModel.from_pretrained(model_name)\n",
        "\n",
        "#embeddings created in batches\n",
        "embedded_headlines3 = []\n",
        "batch_size = 100\n",
        "i = 0\n",
        "while i < len(sample3_headlines):\n",
        "    batch_headlines = sample3_headlines[i:i+batch_size]\n",
        "    max_seq_length = 16\n",
        "    input_headlines = tokenizer(batch_headlines, return_tensors=\"pt\", padding=\"max_length\", truncation=True, max_length=max_seq_length)\n",
        "    outputs_headlines = model(**input_headlines)\n",
        "    embedded = outputs_headlines.last_hidden_state.mean(dim=1).squeeze().detach().numpy()\n",
        "    embedded_headlines3.append(embedded)\n",
        "    i += batch_size\n",
        "\n",
        "embedded_headlines3 = np.concatenate(embedded_headlines3, axis=0)\n",
        "\n",
        "#print(embedded_headlines)\n",
        "print(len(embedded_headlines3))"
      ],
      "metadata": {
        "id": "rLbCpJE_p_wj",
        "colab": {
          "base_uri": "https://localhost:8080/"
        },
        "outputId": "ad594983-7dd6-4d32-9237-38d4d734f09a"
      },
      "execution_count": null,
      "outputs": [
        {
          "output_type": "stream",
          "name": "stdout",
          "text": [
            "10000\n"
          ]
        }
      ]
    },
    {
      "cell_type": "code",
      "source": [
        "range_n_clusters = [ 2, 3, 4, 5, 6, 7, 8]\n",
        "averages3 = []\n",
        "for n_clusters in range_n_clusters:\n",
        "\n",
        "    # Initialize the clusterer with n_clusters value and other parameters as needed\n",
        "    clusterer = KMeans(n_clusters=n_clusters, init='random', n_init=\"auto\", random_state=10)\n",
        "    cluster_labels = clusterer.fit_predict(embedded_headlines2)\n",
        "\n",
        "    # Compute the silhouette scores for each sample\n",
        "    sample_silhouette_values3 = silhouette_samples(embedded_headlines3, cluster_labels)\n",
        "\n",
        "    # Calculate the average silhouette score for the clustering\n",
        "    silhouette_avg3 = silhouette_score(embedded_headlines3, cluster_labels)\n",
        "    averages3.append((n_clusters, silhouette_avg2))\n",
        "    print(\n",
        "        \"For n_clusters =\",\n",
        "        n_clusters,\n",
        "        \"The average silhouette_score is :\",\n",
        "        silhouette_avg3,\n",
        "    )\n",
        "\n",
        "max_cluster3 = max(averages3, key=lambda x: x[1])\n",
        "print(max_cluster3)"
      ],
      "metadata": {
        "id": "eJ_m7sjXsygM",
        "colab": {
          "base_uri": "https://localhost:8080/"
        },
        "outputId": "2a19b407-5506-4396-9b3c-0060df86f589"
      },
      "execution_count": null,
      "outputs": [
        {
          "output_type": "stream",
          "name": "stdout",
          "text": [
            "For n_clusters = 2 The average silhouette_score is : 0.00039262153\n",
            "For n_clusters = 3 The average silhouette_score is : -0.0017729021\n",
            "For n_clusters = 4 The average silhouette_score is : -0.0026789864\n",
            "For n_clusters = 5 The average silhouette_score is : -0.0049171164\n",
            "For n_clusters = 6 The average silhouette_score is : -0.008298793\n",
            "For n_clusters = 7 The average silhouette_score is : -0.010409976\n",
            "For n_clusters = 8 The average silhouette_score is : -0.011564627\n",
            "(2, 0.030426977)\n"
          ]
        }
      ]
    },
    {
      "cell_type": "code",
      "source": [
        "cluster_idx_to_sample = (int(max_cluster3[0])-1)\n",
        "clusterer = KMeans(n_clusters=cluster_idx_to_sample, init='random', n_init=\"auto\", random_state=10)\n",
        "cluster_idx_to_print = cluster_idx_to_sample\n",
        "\n",
        "\n",
        "cluster_headlines3 = [sample3_headlines[i] for i, label in enumerate(cluster_labels) if label == cluster_idx_to_print]\n",
        "#print(f\"Cluster {cluster_idx_to_print + 1} Headlines:\")\n",
        "#for i, headline in enumerate(cluster_headlines1):\n",
        "#    print(f\"Headline {i + 1}: {headline}\")\n",
        "\n",
        "selected3 = random.sample(cluster_headlines3, 5)\n",
        "#print(selected1)\n",
        "selected_indices3 = [i for i, headline in enumerate(cluster_headlines3) if headline in selected3]\n",
        "#print(selected_indices1)\n",
        "selected_headlines3 = [cluster_headlines3[i] for i in selected_indices3]\n",
        "\n",
        "tfidf_vectorizer = TfidfVectorizer()\n",
        "tfidf_matrix = tfidf_vectorizer.fit_transform(cluster_headlines3 + selected3)\n",
        "\n",
        "cosine_similarities3 = cosine_similarity(tfidf_matrix[-6:-1], tfidf_matrix[:-len(selected3)])\n",
        "#print(cosine_similarities1)\n",
        "for i, selected_headlines3 in enumerate(selected3):\n",
        "    print(f\"Selected Headline {i + 1}: {selected_headlines3}\")\n",
        "\n",
        "    # Get the indices of the 5 headlines with the highest cosine similarity scores\n",
        "    top_indices = cosine_similarities3[i].argsort()[-5:][::-1]\n",
        "\n",
        "    print(\"Top 5 Closest Headlines:\")\n",
        "    for j, index in enumerate(top_indices):\n",
        "        print(f\"  Similar Headline {j + 1}: {cluster_headlines3[index]} (Cosine Similarity: {cosine_similarities3[i][index]})\")\n",
        "\n"
      ],
      "metadata": {
        "colab": {
          "base_uri": "https://localhost:8080/"
        },
        "id": "Ens8k0PKsrkx",
        "outputId": "9652d64d-5668-4d0c-b1c5-152c7555aa38"
      },
      "execution_count": null,
      "outputs": [
        {
          "output_type": "stream",
          "name": "stdout",
          "text": [
            "Selected Headline 1: EXTRA JUROR IS PLACED IN BOX: PICK ANOTHER   Melvin Hix, Father of Slain Girl, Also Ill and Not in Court   SNOOK VERY WEAK   Defendant is Pleased at  Delay in His Trial; Rest is Welcome .\n",
            "Top 5 Closest Headlines:\n",
            "  Similar Headline 1: Hunt Slayer (Cosine Similarity: 1.0)\n",
            "  Similar Headline 2: Richmond Broker Killed On Hunt (Cosine Similarity: 0.37938331741745596)\n",
            "  Similar Headline 3: Wife’s Slayer Will Get Her Insurance (Cosine Similarity: 0.27947771429655693)\n",
            "  Similar Headline 4: FRENCH JURY -ACQUITS SLAYER   Man Who Murdered Invalic Mother to Stop Suffering ‘Not to Be Punished. (Cosine Similarity: 0.1717087968594731)\n",
            "  Similar Headline 5: BOY 1S LOCATED AFTER LONG HUNT   His Face In Smiles, His Cloth ing In Tatters, Lad Coast: On Roller Skates Into Arm Of Officers (Cosine Similarity: 0.1670814857501556)\n",
            "Selected Headline 2: Rerencaria Steame On\n",
            "Top 5 Closest Headlines:\n",
            "  Similar Headline 1: EXTRA JUROR IS PLACED IN BOX: PICK ANOTHER   Melvin Hix, Father of Slain Girl, Also Ill and Not in Court   SNOOK VERY WEAK   Defendant is Pleased at  Delay in His Trial; Rest is Welcome . (Cosine Similarity: 1.0000000000000002)\n",
            "  Similar Headline 2: GIRL IS HELD (Cosine Similarity: 0.22695076610618173)\n",
            "  Similar Headline 3: LEAVES HUBBY AND IS SLAIN (Cosine Similarity: 0.18093560265039177)\n",
            "  Similar Headline 4: DEFIES HIS PHYSICIANS AND APPEARS IN COURT (Cosine Similarity: 0.1626546794618103)\n",
            "  Similar Headline 5: Man Is Slain By  House Proprietor (Cosine Similarity: 0.14876354163788041)\n",
            "Selected Headline 3: Zeppelin, Byrd Flights and - Wall Street Crash Rated Leading 1929 News Events\n",
            "Top 5 Closest Headlines:\n",
            "  Similar Headline 1: Rerencaria Steame On (Cosine Similarity: 1.0)\n",
            "  Similar Headline 2: DYES CAUSE NEW RIFT ON TARIFF   FARMERS WIN BATTLE ON RATE ON CASEIN AGAINST IVDISTRY (Cosine Similarity: 0.12469384686113784)\n",
            "  Similar Headline 3: BEDFORD COUNTY WOMAN LOSES LIFE IN-HEAD-ON CRASH   Three Of The Injured Reported To Be In Critical Condition—Head- — On Collision   ON HUNTINGDONEVERETT ROAD (Cosine Similarity: 0.10302835701567586)\n",
            "  Similar Headline 4: Lands on Island Afte Being Carried Out on Ice Floe. (Cosine Similarity: 0.10133905292275035)\n",
            "  Similar Headline 5: CABINET — ON MIND OF HOOVER (Cosine Similarity: 0.09160285356722883)\n",
            "Selected Headline 4: IOWA CITY GIRL KILLS HERSEL!      Miss Hollis Foote Shot Her. self Through the Heart Early Today\n",
            "Top 5 Closest Headlines:\n",
            "  Similar Headline 1: Zeppelin, Byrd Flights and - Wall Street Crash Rated Leading 1929 News Events (Cosine Similarity: 1.0000000000000002)\n",
            "  Similar Headline 2: LATE NEWS BRIEFS (Cosine Similarity: 0.16026258297442086)\n",
            "  Similar Headline 3: BYRD LAUNCHES CAMPAIGN FOR POLAR ACTION (Cosine Similarity: 0.11239926843116345)\n",
            "  Similar Headline 4: Hot From The Wire   Farsign and Domestic News Gesdenvad fer Bury Randers (Cosine Similarity: 0.10419240999509481)\n",
            "  Similar Headline 5: BYRD PARTY CAMPED ON BIG ICE RARRIFI (Cosine Similarity: 0.10374740252087905)\n",
            "Selected Headline 5: tEPARATIONS CONFERENCE ENDS LABORS WITH APPOINTMENT OF SUB-COMMITTEES ON DETAILS\n",
            "Top 5 Closest Headlines:\n",
            "  Similar Headline 1: IOWA CITY GIRL KILLS HERSEL!      Miss Hollis Foote Shot Her. self Through the Heart Early Today (Cosine Similarity: 1.0000000000000002)\n",
            "  Similar Headline 2: GIRL IS HELD (Cosine Similarity: 0.16210225822248908)\n",
            "  Similar Headline 3: CHICAGO GIRL CLUBBED 10 HER DEATH BY MAN   \"g Man” Seen to Strike Girl and Hide Body; Robbery Thought to be Motive. (Cosine Similarity: 0.14664782206954782)\n",
            "  Similar Headline 4: Bomb City (Cosine Similarity: 0.1290922851393297)\n",
            "  Similar Headline 5: Asks Her Pet Dog Be Chloroformed: juried With Her (Cosine Similarity: 0.1273571044210815)\n"
          ]
        }
      ]
    },
    {
      "cell_type": "code",
      "source": [
        "#print(selected3)\n",
        "\n",
        "similar3 = cosine_similarity(tfidf_matrix[-len(selected3):], tfidf_matrix[:-len(selected3)])\n",
        "selected_sim3 = []\n",
        "#print(similar3)\n",
        "for i, selected_headlines3 in enumerate(selected3):\n",
        "  new_indices3 = similar3[i].argsort()[-10:-8][::-1]\n",
        "#  print(new_indices3)\n",
        "  selected_headlines_set = set()  # Initialize a set for the selected headlines\n",
        "  selected_cos = []\n",
        "  for index in new_indices3:\n",
        "      selected_headlines_set.add(cluster_headlines3[index])\n",
        "      selected_cos.append(cosine_similarities3[i][index])\n",
        "\n",
        "  selected_sim3.append((selected_headlines_set, selected_cos))\n",
        "\n",
        "for j, similar3_headline in enumerate(selected3):\n",
        "    print(f\"Selected Headline {j + 1}: {similar3_headline}\")\n",
        "    selected_headlines_set, selected_cos = selected_sim3[j]\n",
        "    for i, selected_headline in enumerate(selected_headlines_set):\n",
        "        print(f\"Similar Headline: {selected_headline}\\n Cosine Similarity {selected_cos[i]}\")\n"
      ],
      "metadata": {
        "colab": {
          "base_uri": "https://localhost:8080/"
        },
        "id": "dfHhSzoLMfyv",
        "outputId": "7a51225a-8480-4acb-9d6d-7bd13066c993"
      },
      "execution_count": null,
      "outputs": [
        {
          "output_type": "stream",
          "name": "stdout",
          "text": [
            "Selected Headline 1: EXTRA JUROR IS PLACED IN BOX: PICK ANOTHER   Melvin Hix, Father of Slain Girl, Also Ill and Not in Court   SNOOK VERY WEAK   Defendant is Pleased at  Delay in His Trial; Rest is Welcome .\n",
            "Similar Headline: Duties of a New Father-in-Law Not Easy, Envoy Finds\n",
            " Cosine Similarity 0.0\n",
            "Similar Headline: Catholic Priest Is Slain by Bandits’ in China, Mission Hear:\n",
            " Cosine Similarity 0.0\n",
            "Selected Headline 2: Rerencaria Steame On\n",
            "Similar Headline: Irge Work on Hichway 7%\n",
            " Cosine Similarity 0.0\n",
            "Similar Headline: Hoover Continues  On Fishing Trip\n",
            " Cosine Similarity 0.0\n",
            "Selected Headline 3: Zeppelin, Byrd Flights and - Wall Street Crash Rated Leading 1929 News Events\n",
            "Similar Headline:  Victims of Crash  Were All Praminen!\n",
            " Cosine Similarity 0.0\n",
            "Similar Headline: Easter Greetings Are _ Broadcast to Public ~ From Byrd in Antarctic\n",
            " Cosine Similarity 0.0\n",
            "Selected Headline 4: IOWA CITY GIRL KILLS HERSEL!      Miss Hollis Foote Shot Her. self Through the Heart Early Today\n",
            "Similar Headline: Guard Is Stabbed  and Convict Shot\n",
            " Cosine Similarity 0.0\n",
            "Similar Headline: Kills Boyhood Chum, ‘LaughsWhenCaptured\n",
            " Cosine Similarity 0.03371307072682616\n",
            "Selected Headline 5: tEPARATIONS CONFERENCE ENDS LABORS WITH APPOINTMENT OF SUB-COMMITTEES ON DETAILS\n",
            "Similar Headline: BELIEVE BANKER WILL ATTEMPT TC SAVE CONFERENCE   British Stand Against Acceptance Of Young Plan Receives Criticism From French; Adjournment Averts Failure Of Confab.\n",
            " Cosine Similarity 0.0\n",
            "Similar Headline: STIMSON WILL BE DELEGATED TO: CONFERENCE   Gibson and Admiral Jone Also Expected to Act at London.\n",
            " Cosine Similarity 0.0\n"
          ]
        }
      ]
    },
    {
      "cell_type": "code",
      "source": [
        "differ3 = []\n",
        "diff_indices3 = []\n",
        "for i in range(0, 5):\n",
        "    rand = random.sample(cluster_headlines3, 1)\n",
        "    differ3.append(rand)\n",
        "    ind = [idx for idx, headline in enumerate(cluster_headlines3) if headline == rand[0]]\n",
        "    diff_indices3.append(ind)\n",
        "\n",
        "diff3 = []\n",
        "for indices in diff_indices3:\n",
        "    for index in indices:\n",
        "        headline = cluster_headlines3[index]\n",
        "        cos_sim = cosine_similarities3[i][index]\n",
        "        diff3.append((headline, cos_sim))\n",
        "\n",
        "for j, similar3_headline in enumerate(selected3):\n",
        "    print(f\"Selected Headline {j + 1}: {similar3_headline}\")\n",
        "    headline, cos_sim = diff3[j]\n",
        "    print(f\"Headline: {headline} Cosine Similarity: {cos_sim}\\n\")\n",
        "\n",
        "#print(diff3)\n",
        "#print(differ3)\n",
        "#print(diff_indices3)\n"
      ],
      "metadata": {
        "colab": {
          "base_uri": "https://localhost:8080/"
        },
        "id": "yhG5FEm2MfVx",
        "outputId": "ea7aa66d-7fe7-47f8-fccc-a940f79d2c9b"
      },
      "execution_count": null,
      "outputs": [
        {
          "output_type": "stream",
          "name": "stdout",
          "text": [
            "Selected Headline 1: EXTRA JUROR IS PLACED IN BOX: PICK ANOTHER   Melvin Hix, Father of Slain Girl, Also Ill and Not in Court   SNOOK VERY WEAK   Defendant is Pleased at  Delay in His Trial; Rest is Welcome .\n",
            "Headline: DEATH OF IOWA STATE SENATOR UNDER INQUIR’   George: ‘Ly. Finn, Often Ex E Cosine Similarity: 0.08184661348136706\n",
            "\n",
            "Selected Headline 2: Rerencaria Steame On\n",
            "Headline: 3006 UNABLE TO BEAT DOWN FIRE   Forest Flames Lap Up Rich Timber Cosine Similarity: 0.0\n",
            "\n",
            "Selected Headline 3: Zeppelin, Byrd Flights and - Wall Street Crash Rated Leading 1929 News Events\n",
            "Headline: House Puts Dry Bill in Conterence   ‘Party Lines Shattered ix  Tilt Over $24,000,000 Measure. Cosine Similarity: 0.0\n",
            "\n",
            "Selected Headline 4: IOWA CITY GIRL KILLS HERSEL!      Miss Hollis Foote Shot Her. self Through the Heart Early Today\n",
            "Headline: SOCIAL LEADERS GATHER FOR CIVIC OPERA WINTER OPENING ATNEW THEATER Cosine Similarity: 0.0\n",
            "\n",
            "Selected Headline 5: tEPARATIONS CONFERENCE ENDS LABORS WITH APPOINTMENT OF SUB-COMMITTEES ON DETAILS\n",
            "Headline: China To Abolish Extra - Territorial Rights Foreigners   Foreigners Living In China Would Be Subject To Central And Local Laws, According To Mandate. Cosine Similarity: 0.0\n",
            "\n"
          ]
        }
      ]
    }
  ]
}